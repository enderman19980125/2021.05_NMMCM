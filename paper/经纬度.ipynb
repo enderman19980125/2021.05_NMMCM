{
 "cells": [
  {
   "cell_type": "code",
   "execution_count": 7,
   "id": "banned-calendar",
   "metadata": {},
   "outputs": [],
   "source": [
    "import requests\n",
    "import re\n",
    "def query(addr):\n",
    "    #查询addr的经纬度\n",
    "    template = 'https://apis.map.qq.com/jsapi?qt=geoc&addr={addr}&key=UGMBZ-CINWR-DDRW5-W52AK-D3ENK-ZEBRC&output=jsonp&pf=jsapi&ref=jsapi&cb=qq.maps._svcb2.geocoder0'\n",
    "    url = template.format(addr=addr)\n",
    "    resp = requests.get(url)\n",
    "    x = re.findall('pointx\":\"(.*?)\",',resp.text)[0]\n",
    "    y = re.findall('pointy\":\"(.*?)\",',resp.text)[0]\n",
    "    return x,y\n",
    "query(addr=\"呼和浩特\") #输入地址"
   ]
  },
  {
   "cell_type": "code",
   "execution_count": 12,
   "id": "operating-dominant",
   "metadata": {},
   "outputs": [
    {
     "data": {
      "text/plain": [
       "('111.622990', '40.807720')"
      ]
     },
     "execution_count": 12,
     "metadata": {},
     "output_type": "execute_result"
    }
   ],
   "source": []
  }
 ],
 "metadata": {
  "kernelspec": {
   "display_name": "Python 3",
   "language": "python",
   "name": "python3"
  },
  "language_info": {
   "codemirror_mode": {
    "name": "ipython",
    "version": 3
   },
   "file_extension": ".py",
   "mimetype": "text/x-python",
   "name": "python",
   "nbconvert_exporter": "python",
   "pygments_lexer": "ipython3",
   "version": "3.8.8"
  }
 },
 "nbformat": 4,
 "nbformat_minor": 5
}
