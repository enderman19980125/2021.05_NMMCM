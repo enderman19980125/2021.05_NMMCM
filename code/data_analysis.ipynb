{
 "cells": [
  {
   "cell_type": "code",
   "execution_count": 4,
   "metadata": {
    "collapsed": true,
    "pycharm": {
     "name": "#%%\n"
    }
   },
   "outputs": [],
   "source": [
    "# 读入数据\n",
    "\n",
    "import pandas as pd\n",
    "from datetime import datetime\n",
    "import matplotlib.pyplot as plt\n",
    "\n",
    "pd.set_option('display.max_rows', 100)\n",
    "\n",
    "station_locations_df = pd.read_csv(\n",
    "    './data/stations-info.csv',\n",
    "    header=0,\n",
    "    dtype={\n",
    "        'station': str,\n",
    "        'longitude': float,\n",
    "        'latitude': float,\n",
    "    }\n",
    ")\n",
    "\n",
    "passenger_flow_df = pd.read_csv(\n",
    "    './data/passenger-flow.csv',\n",
    "    header=0,\n",
    "    parse_dates=['datetime'],\n",
    "    date_parser=lambda x: datetime.strptime(x, \"%Y/%m/%d %H:%M\"),\n",
    "    dtype={\n",
    "        'ID': str,\n",
    "        'passengers-in': int,\n",
    "        'passengers-out': int,\n",
    "        'station': str,\n",
    "    }\n",
    ")\n",
    "\n",
    "passenger_flow_df['day'] = passenger_flow_df.apply(lambda row: row['datetime'].strftime('%d'), axis=1).astype(int)"
   ]
  },
  {
   "cell_type": "code",
   "execution_count": 5,
   "outputs": [],
   "source": [
    "# 每日出入站的总客流量\n",
    "#\n",
    "# day  passengers-in  passengers-out\n",
    "#  01          89553           89553\n",
    "#  02         106890          106890\n",
    "#  03          98175           98175\n",
    "#  04          89815           89815\n",
    "#  05         119204          119204\n",
    "#  06         110510          110510\n",
    "#  07         122495          122495\n",
    "#  08         121978          121978\n",
    "#  09         113252          113252\n",
    "#  10          77984           77984\n",
    "#  11         118952          118952\n",
    "#  12         101863          101863\n",
    "#  13         118966          118966\n",
    "#  14         122422          122422\n",
    "\n",
    "df = passenger_flow_df.copy()\n",
    "df = df.groupby('day').sum()\n",
    "\n",
    "# print(df)\n",
    "# df.plot()"
   ],
   "metadata": {
    "collapsed": false,
    "pycharm": {
     "name": "#%%\n"
    }
   }
  },
  {
   "cell_type": "code",
   "execution_count": 6,
   "outputs": [
    {
     "name": "stdout",
     "output_type": "stream",
     "text": [
      "2020/09/1 22:45 2a is not found.\n",
      "2020/09/1 22:45 2b is not found.\n",
      "2020/09/1 22:45 2d is not found.\n"
     ]
    }
   ],
   "source": [
    "# 每日每时刻出入站的客流量\n",
    "\n",
    "stations_list = station_locations_df['id'].tolist()\n",
    "\n",
    "time_list = []\n",
    "for hour in range(6, 22 + 1):\n",
    "    for minute in range(0, 45 + 1, 15):\n",
    "        time_list.append(f'{hour:02d}:{minute:02d}')\n",
    "\n",
    "zero_data_list = [[0] * len(stations_list) for _ in range(len(time_list))]\n",
    "\n",
    "for day in range(1, 1 + 1):\n",
    "    day_in_df = pd.DataFrame(zero_data_list, columns=stations_list, index=time_list, dtype='int64')\n",
    "    day_out_df = pd.DataFrame(zero_data_list, columns=stations_list, index=time_list, dtype='int64')\n",
    "    for station in stations_list:\n",
    "        for time in time_list:\n",
    "            hour = int(time[:2])\n",
    "            minute = int(time[3:])\n",
    "            single_df = passenger_flow_df[\n",
    "                (passenger_flow_df['station'] == station) &\n",
    "                (passenger_flow_df['datetime'] == f'2020-09-{day} {time}')\n",
    "                ]\n",
    "            if single_df.shape[0] != 1:\n",
    "                print(f'2020/09/{day} {time} {station} is not found.')\n",
    "                continue\n",
    "            passengers_in = single_df['passengers-in'].tolist()[0]\n",
    "            passengers_out = single_df['passengers-out'].tolist()[0]\n",
    "            day_in_df.loc[time, station] = passengers_in\n",
    "            day_out_df.loc[time, station] = passengers_out\n",
    "    # print(day_in_df)\n",
    "    # print(day_out_df)\n"
   ],
   "metadata": {
    "collapsed": false,
    "pycharm": {
     "name": "#%%\n"
    }
   }
  }
 ],
 "metadata": {
  "kernelspec": {
   "display_name": "Python 3",
   "language": "python",
   "name": "python3"
  },
  "language_info": {
   "codemirror_mode": {
    "name": "ipython",
    "version": 2
   },
   "file_extension": ".py",
   "mimetype": "text/x-python",
   "name": "python",
   "nbconvert_exporter": "python",
   "pygments_lexer": "ipython2",
   "version": "2.7.6"
  }
 },
 "nbformat": 4,
 "nbformat_minor": 0
}